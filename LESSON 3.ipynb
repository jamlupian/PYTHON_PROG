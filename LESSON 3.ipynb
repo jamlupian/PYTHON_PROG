{
 "cells": [
  {
   "cell_type": "markdown",
   "id": "7da3cfa9",
   "metadata": {},
   "source": [
    "REVIEW QUESTION #1"
   ]
  },
  {
   "cell_type": "code",
   "execution_count": 2,
   "id": "8ae9570a",
   "metadata": {},
   "outputs": [
    {
     "name": "stdout",
     "output_type": "stream",
     "text": [
      "Number 3 raised to the third power is 27.\n",
      "Number 4 raised to the third power is 64.\n",
      "Number 5 raised to the third power is 125.\n"
     ]
    }
   ],
   "source": [
    "\n",
    "def cube(number):\n",
    "    number = number ** 3\n",
    "    return number\n",
    "print(f\"Number 3 raised to the third power is {cube(3)}.\")\n",
    "print(f\"Number 4 raised to the third power is {cube(4)}.\")\n",
    "print(f\"Number 5 raised to the third power is {cube(5)}.\")"
   ]
  },
  {
   "cell_type": "code",
   "execution_count": 3,
   "id": "cdbb2fe2",
   "metadata": {},
   "outputs": [
    {
     "name": "stdout",
     "output_type": "stream",
     "text": [
      "Hello, John!\n"
     ]
    }
   ],
   "source": [
    "def greet(name):\n",
    "    print(f\"Hello, {name}!\")\n",
    "greet(\"John\")"
   ]
  },
  {
   "cell_type": "markdown",
   "id": "b4f1717b",
   "metadata": {},
   "source": [
    "\n",
    "CHALLENGE: CONVERT TEMPERATURES"
   ]
  },
  {
   "cell_type": "code",
   "execution_count": 4,
   "id": "ff0b8fbe",
   "metadata": {},
   "outputs": [
    {
     "name": "stdout",
     "output_type": "stream",
     "text": [
      "37.0 degrees C = 98.60 degrees F\n"
     ]
    }
   ],
   "source": [
    "def convert_cel_to_far(celsius):\n",
    "    fahrenheit = (celsius * 9/5) + 32\n",
    "    return fahrenheit\n",
    "user = float(input(\"Enter a temperature in degrees C: \"))\n",
    "result = convert_cel_to_far(user)\n",
    "print(f\"{user} degrees C = {result:.2f} degrees F\")"
   ]
  },
  {
   "cell_type": "code",
   "execution_count": 5,
   "id": "797f536f",
   "metadata": {},
   "outputs": [
    {
     "name": "stdout",
     "output_type": "stream",
     "text": [
      "45.0 degrees F = 7.22 degrees C\n"
     ]
    }
   ],
   "source": [
    "def convert_far_to_cel(fahrenheit):\n",
    "    celsius = (fahrenheit - 32) * 5/9\n",
    "    return celsius\n",
    "user = float(input(\"Enter a temperature in degrees F: \"))\n",
    "result = convert_far_to_cel(user)\n",
    "print(f\"{user} degrees F = {result:.2f} degrees C\")"
   ]
  },
  {
   "cell_type": "markdown",
   "id": "23304821",
   "metadata": {},
   "source": [
    "REVIEW QUESTION #2"
   ]
  },
  {
   "cell_type": "code",
   "execution_count": 6,
   "id": "402f7e8f",
   "metadata": {},
   "outputs": [
    {
     "name": "stdout",
     "output_type": "stream",
     "text": [
      "2\n",
      "3\n",
      "4\n",
      "5\n",
      "6\n",
      "7\n",
      "8\n",
      "9\n",
      "10\n"
     ]
    }
   ],
   "source": [
    "for i in range(2, 11):\n",
    "    print(i)"
   ]
  },
  {
   "cell_type": "code",
   "execution_count": 7,
   "id": "1a4b69d3",
   "metadata": {},
   "outputs": [
    {
     "name": "stdout",
     "output_type": "stream",
     "text": [
      "4\n",
      "8\n",
      "16\n"
     ]
    }
   ],
   "source": [
    "def doubles(num):\n",
    "    num = num * 2\n",
    "    return num\n",
    "\n",
    "value = 2\n",
    "for i in range(3):\n",
    "    value = doubles(value)\n",
    "    print(value)\n"
   ]
  }
 ],
 "metadata": {
  "kernelspec": {
   "display_name": "base",
   "language": "python",
   "name": "python3"
  },
  "language_info": {
   "codemirror_mode": {
    "name": "ipython",
    "version": 3
   },
   "file_extension": ".py",
   "mimetype": "text/x-python",
   "name": "python",
   "nbconvert_exporter": "python",
   "pygments_lexer": "ipython3",
   "version": "3.13.5"
  }
 },
 "nbformat": 4,
 "nbformat_minor": 5
}
