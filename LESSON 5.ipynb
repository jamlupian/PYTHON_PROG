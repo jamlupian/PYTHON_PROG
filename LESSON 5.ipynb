{
 "cells": [
  {
   "cell_type": "markdown",
   "id": "86c96dc5",
   "metadata": {},
   "source": [
    "REVIEW EXERCISES #1"
   ]
  },
  {
   "cell_type": "code",
   "execution_count": 1,
   "id": "65a8d59d",
   "metadata": {},
   "outputs": [
    {
     "data": {
      "text/plain": [
       "('First', 'Second', 'Third')"
      ]
     },
     "execution_count": 1,
     "metadata": {},
     "output_type": "execute_result"
    }
   ],
   "source": [
    "cardinal_numbers = (\"First\", \"Second\", \"Third\")\n",
    "cardinal_numbers"
   ]
  },
  {
   "cell_type": "code",
   "execution_count": 2,
   "id": "5cf46bb7",
   "metadata": {},
   "outputs": [
    {
     "name": "stdout",
     "output_type": "stream",
     "text": [
      "Second\n"
     ]
    }
   ],
   "source": [
    "print(cardinal_numbers[1])"
   ]
  },
  {
   "cell_type": "code",
   "execution_count": 3,
   "id": "31ef2bb2",
   "metadata": {},
   "outputs": [
    {
     "name": "stdout",
     "output_type": "stream",
     "text": [
      "First\n",
      "Second\n",
      "Third\n"
     ]
    }
   ],
   "source": [
    "position1, position2, position3 = cardinal_numbers\n",
    "\n",
    "print(position1)\n",
    "print(position2)\n",
    "print(position3)"
   ]
  },
  {
   "cell_type": "code",
   "execution_count": 4,
   "id": "bbce31fe",
   "metadata": {},
   "outputs": [
    {
     "name": "stdout",
     "output_type": "stream",
     "text": [
      "('J', 'o', 'h', 'n')\n"
     ]
    }
   ],
   "source": [
    "my_name = tuple(\"John\")\n",
    "print(my_name)"
   ]
  },
  {
   "cell_type": "code",
   "execution_count": 5,
   "id": "bd9cc022",
   "metadata": {},
   "outputs": [
    {
     "name": "stdout",
     "output_type": "stream",
     "text": [
      "False\n"
     ]
    }
   ],
   "source": [
    "print(\"\" in my_name)"
   ]
  },
  {
   "cell_type": "code",
   "execution_count": 6,
   "id": "98c2ef07",
   "metadata": {},
   "outputs": [
    {
     "name": "stdout",
     "output_type": "stream",
     "text": [
      "('o', 'h', 'n')\n"
     ]
    }
   ],
   "source": [
    "new_tuple = my_name[1:]\n",
    "print(new_tuple) "
   ]
  },
  {
   "cell_type": "markdown",
   "id": "dbf2daec",
   "metadata": {},
   "source": [
    "\n",
    "REVIEW EXERCISES #2"
   ]
  },
  {
   "cell_type": "code",
   "execution_count": 7,
   "id": "31a649e2",
   "metadata": {},
   "outputs": [
    {
     "data": {
      "text/plain": [
       "['RICE', 'BEANS']"
      ]
     },
     "execution_count": 7,
     "metadata": {},
     "output_type": "execute_result"
    }
   ],
   "source": [
    "food = [\"RICE\", \"BEANS\"]\n",
    "food"
   ]
  },
  {
   "cell_type": "code",
   "execution_count": 8,
   "id": "4d0db81e",
   "metadata": {},
   "outputs": [
    {
     "name": "stdout",
     "output_type": "stream",
     "text": [
      "['RICE', 'BEANS', 'BROCCOLI']\n"
     ]
    }
   ],
   "source": [
    "food.append(\"BROCCOLI\")\n",
    "print(food)"
   ]
  },
  {
   "cell_type": "code",
   "execution_count": 9,
   "id": "fd5ff24b",
   "metadata": {},
   "outputs": [
    {
     "name": "stdout",
     "output_type": "stream",
     "text": [
      "['RICE', 'BEANS', 'BROCCOLI', 'BREAD', 'PIZZA']\n"
     ]
    }
   ],
   "source": [
    "food.extend([\"BREAD\", \"PIZZA\"])\n",
    "print(food)"
   ]
  },
  {
   "cell_type": "code",
   "execution_count": 10,
   "id": "76912909",
   "metadata": {},
   "outputs": [
    {
     "name": "stdout",
     "output_type": "stream",
     "text": [
      "['RICE', 'BEANS']\n"
     ]
    }
   ],
   "source": [
    "print(food[:2])"
   ]
  },
  {
   "cell_type": "code",
   "execution_count": 11,
   "id": "2472423e",
   "metadata": {},
   "outputs": [
    {
     "name": "stdout",
     "output_type": "stream",
     "text": [
      "PIZZA\n"
     ]
    }
   ],
   "source": [
    "print(food[-1])"
   ]
  },
  {
   "cell_type": "code",
   "execution_count": 12,
   "id": "0f20caf4",
   "metadata": {},
   "outputs": [
    {
     "name": "stdout",
     "output_type": "stream",
     "text": [
      "['EGGS', 'FRUIT', 'ORANGE JUICE']\n"
     ]
    }
   ],
   "source": [
    "breakfast = \"EGGS, FRUIT, ORANGE JUICE\".split(\", \")\n",
    "print(breakfast)"
   ]
  },
  {
   "cell_type": "code",
   "execution_count": 13,
   "id": "4f46307b",
   "metadata": {},
   "outputs": [
    {
     "name": "stdout",
     "output_type": "stream",
     "text": [
      "3\n"
     ]
    }
   ],
   "source": [
    "print(len(breakfast))"
   ]
  },
  {
   "cell_type": "code",
   "execution_count": 14,
   "id": "43cfadf0",
   "metadata": {},
   "outputs": [
    {
     "name": "stdout",
     "output_type": "stream",
     "text": [
      "[4, 5, 12]\n"
     ]
    }
   ],
   "source": [
    "lengths = [len(item) for item in breakfast]\n",
    "print(lengths)"
   ]
  },
  {
   "cell_type": "markdown",
   "id": "393c937b",
   "metadata": {},
   "source": [
    "REVIEW EXERCISES #3"
   ]
  },
  {
   "cell_type": "code",
   "execution_count": 15,
   "id": "1ea0ffa3",
   "metadata": {},
   "outputs": [
    {
     "data": {
      "text/plain": [
       "((1, 2), (3, 4))"
      ]
     },
     "execution_count": 15,
     "metadata": {},
     "output_type": "execute_result"
    }
   ],
   "source": [
    "data = ((1, 2), (3, 4))\n",
    "data"
   ]
  },
  {
   "cell_type": "code",
   "execution_count": 16,
   "id": "48e100c2",
   "metadata": {},
   "outputs": [
    {
     "name": "stdout",
     "output_type": "stream",
     "text": [
      "Row 1 sum: 3\n",
      "Row 2 sum: 7\n"
     ]
    }
   ],
   "source": [
    "row = 1\n",
    "for num in data:\n",
    "    print(f\"Row {row} sum: {sum(num)}\")\n",
    "    row += 1"
   ]
  },
  {
   "cell_type": "code",
   "execution_count": 17,
   "id": "adcb87d7",
   "metadata": {},
   "outputs": [
    {
     "name": "stdout",
     "output_type": "stream",
     "text": [
      "((1, 2), (3, 4))\n"
     ]
    }
   ],
   "source": [
    "copy_numbers = data[0:2]\n",
    "print(copy_numbers)"
   ]
  },
  {
   "cell_type": "code",
   "execution_count": 18,
   "id": "49ada848",
   "metadata": {},
   "outputs": [
    {
     "name": "stdout",
     "output_type": "stream",
     "text": [
      "Unsorted: (1, 8, 11, 46, 2, 5, 67)\n",
      "Sorted: (1, 2, 5, 8, 11, 46, 67)\n"
     ]
    }
   ],
   "source": [
    "data = (1, 8, 11, 46, 2, 5, 67)\n",
    "numbersList = list(data)\n",
    "numbersList.sort()\n",
    "\n",
    "print(f\"Unsorted: {data}\")\n",
    "print(f\"Sorted: {tuple(numbersList)}\")"
   ]
  },
  {
   "cell_type": "markdown",
   "id": "c9391e70",
   "metadata": {},
   "source": [
    "CHALLENGE: LIST OF LISTS"
   ]
  },
  {
   "cell_type": "code",
   "execution_count": 19,
   "id": "5a5c5fae",
   "metadata": {},
   "outputs": [
    {
     "name": "stdout",
     "output_type": "stream",
     "text": [
      "California Institute of Technology - Enrollment: 2175, Tuition: 37704\n",
      "Harvard - Enrollment: 19627, Tuition: 39849\n",
      "Massachusetts Institute of Technology - Enrollment: 10566, Tuition: 40732\n",
      "Princeton - Enrollment: 7802, Tuition: 37000\n",
      "Rice - Enrollment: 5879, Tuition: 35551\n",
      "Stanford - Enrollment: 19535, Tuition: 40569\n",
      "Yale - Enrollment: 11701, Tuition: 40500\n"
     ]
    }
   ],
   "source": [
    "universities = [\n",
    "    ['California Institute of Technology', 2175, 37704],\n",
    "    ['Harvard', 19627, 39849],\n",
    "    ['Massachusetts Institute of Technology', 10566, 40732],\n",
    "    ['Princeton', 7802, 37000],\n",
    "    ['Rice', 5879, 35551],\n",
    "    ['Stanford', 19535, 40569],\n",
    "    ['Yale', 11701, 40500]\n",
    "]\n",
    "\n",
    "for uni in universities:\n",
    "    print(f\"{uni[0]} - Enrollment: {uni[1]}, Tuition: {uni[2]}\")"
   ]
  },
  {
   "cell_type": "markdown",
   "id": "0771f319",
   "metadata": {},
   "source": [
    "CHALLENGE: WAX POETIC"
   ]
  },
  {
   "cell_type": "code",
   "execution_count": 20,
   "id": "d21eecd6",
   "metadata": {},
   "outputs": [
    {
     "name": "stdout",
     "output_type": "stream",
     "text": [
      "Nouns: ['FOSSIL', 'HORSE', 'AARDVARK', 'JUDGE', 'CHEF', 'MANGO', 'EXTROVERT', 'GORILLA']\n",
      "Verbs: ['KICKS', 'JINGLES', 'BOUNCES', 'SLURPS', 'MEOWS', 'EXPLODES', 'CURDLES']\n",
      "Adjectives: ['FURRY', 'BALDING', 'INCREDULOUS', 'FRAGRANT', 'EXUBERANT', 'GLISTENING']\n",
      "Prepositions: ['AGAINST', 'AFTER', 'INTO', 'BENEATH', 'UPON', 'FOR', 'IN', 'LIKE', 'OVER', 'WITHIN']\n",
      "Adverbs: ['CURIOUSLY', 'FURIOUSLY', 'SENSUOUSLY', 'EXTRAVAGANTLY', 'TANTALIZINGLY']\n"
     ]
    }
   ],
   "source": [
    "nouns = [\"FOSSIL\", \"HORSE\", \"AARDVARK\", \"JUDGE\", \"CHEF\", \"MANGO\", \"EXTROVERT\", \"GORILLA\"]\n",
    "verbs = [\"KICKS\", \"JINGLES\", \"BOUNCES\", \"SLURPS\", \"MEOWS\", \"EXPLODES\", \"CURDLES\"]\n",
    "adjectives = [\"FURRY\", \"BALDING\", \"INCREDULOUS\", \"FRAGRANT\", \"EXUBERANT\", \"GLISTENING\"]\n",
    "prepositions = [\"AGAINST\", \"AFTER\", \"INTO\", \"BENEATH\", \"UPON\", \"FOR\", \"IN\", \"LIKE\", \"OVER\", \"WITHIN\"]\n",
    "adverbs = [\"CURIOUSLY\", \"FURIOUSLY\", \"SENSUOUSLY\", \"EXTRAVAGANTLY\", \"TANTALIZINGLY\"]\n",
    "\n",
    "print(\"Nouns:\", nouns)\n",
    "print(\"Verbs:\", verbs)\n",
    "print(\"Adjectives:\", adjectives)\n",
    "print(\"Prepositions:\", prepositions)\n",
    "print(\"Adverbs:\", adverbs)"
   ]
  },
  {
   "cell_type": "markdown",
   "id": "16f56801",
   "metadata": {},
   "source": [
    "REVIEW EXERCISES #4"
   ]
  },
  {
   "cell_type": "code",
   "execution_count": 21,
   "id": "2a7741eb",
   "metadata": {},
   "outputs": [],
   "source": [
    "captains = {}"
   ]
  },
  {
   "cell_type": "code",
   "execution_count": 22,
   "id": "8e8e6339",
   "metadata": {},
   "outputs": [],
   "source": [
    "captains[\"Enterprise\"] = \"Picard\"\n",
    "captains[\"Voyager\"] = \"Janeway\"\n",
    "captains[\"Defiant\"] = \"Sisko\""
   ]
  },
  {
   "cell_type": "code",
   "execution_count": 23,
   "id": "44119396",
   "metadata": {},
   "outputs": [],
   "source": [
    "\n",
    "if \"Enterprise\" not in captains:\n",
    "    captains[\"Enterprise\"] = \"Unknown\"\n",
    "\n",
    "if \"Discovery\" not in captains:\n",
    "    captains[\"Discovery\"] = \"Unknown\""
   ]
  },
  {
   "cell_type": "code",
   "execution_count": 24,
   "id": "b8657129",
   "metadata": {},
   "outputs": [
    {
     "name": "stdout",
     "output_type": "stream",
     "text": [
      "The Enterprise is captained by Picard.\n",
      "The Voyager is captained by Janeway.\n",
      "The Defiant is captained by Sisko.\n",
      "The Discovery is captained by Unknown.\n"
     ]
    }
   ],
   "source": [
    "for ship, captain in captains.items():\n",
    "    print(f\"The {ship} is captained by {captain}.\")"
   ]
  },
  {
   "cell_type": "code",
   "execution_count": 25,
   "id": "894a4e25",
   "metadata": {},
   "outputs": [
    {
     "name": "stdout",
     "output_type": "stream",
     "text": [
      "{'Enterprise': 'Picard', 'Voyager': 'Janeway', 'Defiant': 'Sisko'}\n"
     ]
    }
   ],
   "source": [
    "del captains[\"Discovery\"]\n",
    "print(captains)"
   ]
  },
  {
   "cell_type": "code",
   "execution_count": 26,
   "id": "b37c986a",
   "metadata": {},
   "outputs": [
    {
     "name": "stdout",
     "output_type": "stream",
     "text": [
      "{'Enterprise': 'Picard', 'Voyager': 'Janeway', 'Defiant': 'Sisko'}\n"
     ]
    }
   ],
   "source": [
    "captains2 = dict(\n",
    "    Enterprise=\"Picard\",\n",
    "    Voyager=\"Janeway\",\n",
    "    Defiant=\"Sisko\"\n",
    ")\n",
    "\n",
    "print(captains2)"
   ]
  },
  {
   "cell_type": "markdown",
   "id": "ee4db3c4",
   "metadata": {},
   "source": [
    "CHALLENGE: CAPITAL CITY LOOP"
   ]
  },
  {
   "cell_type": "code",
   "execution_count": 27,
   "id": "222bf845",
   "metadata": {},
   "outputs": [
    {
     "name": "stdout",
     "output_type": "stream",
     "text": [
      "The capital of Alabama is Montgomery.\n",
      "The capital of Alaska is Juneau.\n",
      "The capital of Arizona is Phoenix.\n",
      "The capital of Arkansas is Little Rock.\n",
      "The capital of California is Sacramento.\n",
      "The capital of Colorado is Denver.\n",
      "The capital of Connecticut is Hartford.\n",
      "The capital of Delaware is Dover.\n",
      "The capital of Florida is Tallahassee.\n",
      "The capital of Georgia is Atlanta.\n"
     ]
    }
   ],
   "source": [
    "capitals = {\n",
    "    \"Alabama\": \"Montgomery\",\n",
    "    \"Alaska\": \"Juneau\",\n",
    "    \"Arizona\": \"Phoenix\",\n",
    "    \"Arkansas\": \"Little Rock\",\n",
    "    \"California\": \"Sacramento\",\n",
    "    'California': 'Sacramento',\n",
    "    'Colorado': 'Denver',\n",
    "    'Connecticut': 'Hartford',\n",
    "    'Delaware': 'Dover',\n",
    "    'Florida': 'Tallahassee',\n",
    "    'Georgia': 'Atlanta',\n",
    "}\n",
    "\n",
    "for state, capital in capitals.items():\n",
    "    print(f\"The capital of {state} is {capital}.\")"
   ]
  }
 ],
 "metadata": {
  "kernelspec": {
   "display_name": "base",
   "language": "python",
   "name": "python3"
  },
  "language_info": {
   "codemirror_mode": {
    "name": "ipython",
    "version": 3
   },
   "file_extension": ".py",
   "mimetype": "text/x-python",
   "name": "python",
   "nbconvert_exporter": "python",
   "pygments_lexer": "ipython3",
   "version": "3.13.5"
  }
 },
 "nbformat": 4,
 "nbformat_minor": 5
}
