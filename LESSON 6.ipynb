{
 "cells": [
  {
   "cell_type": "markdown",
   "id": "42a11a5b",
   "metadata": {},
   "source": [
    "\n",
    "REVIEW EXERCISES 1"
   ]
  },
  {
   "cell_type": "code",
   "execution_count": 9,
   "id": "e45e0b30",
   "metadata": {},
   "outputs": [
    {
     "name": "stdout",
     "output_type": "stream",
     "text": [
      "Philo's coat is brown.\n"
     ]
    }
   ],
   "source": [
    "class Dog:\n",
    "    def __init__(self, name, age, coat_color):\n",
    "        self.name, self.age, self.coat_color = name, age, coat_color\n",
    "\n",
    "dog = Dog(\"Philo\", 5, \"brown\")\n",
    "print(f\"{dog.name}'s coat is {dog.coat_color}.\")"
   ]
  },
  {
   "cell_type": "code",
   "execution_count": 10,
   "id": "cf3b0b79",
   "metadata": {},
   "outputs": [
    {
     "name": "stdout",
     "output_type": "stream",
     "text": [
      "The blue car has 20000 miles.\n",
      "The red car has 30000 miles.\n"
     ]
    }
   ],
   "source": [
    "class Car:\n",
    "    def __init__(self, color, mileage):\n",
    "        self.color, self.mileage = color, mileage\n",
    "\n",
    "for color, miles in [(\"blue\", 20000), (\"red\", 30000)]:\n",
    "    print(f\"The {color} car has {miles} miles.\")\n"
   ]
  },
  {
   "cell_type": "code",
   "execution_count": 11,
   "id": "4d7b8165",
   "metadata": {},
   "outputs": [
    {
     "name": "stdout",
     "output_type": "stream",
     "text": [
      "The car's mileage is now 100 miles.\n"
     ]
    }
   ],
   "source": [
    "class Car:\n",
    "    def __init__(self, color, mileage=0):\n",
    "        self.color, self.mileage = color, mileage\n",
    "\n",
    "    def drive(self, miles): self.mileage += miles\n",
    "\n",
    "my_car = Car(\"blue\")\n",
    "my_car.drive(100)\n",
    "print(f\"The car's mileage is now {my_car.mileage} miles.\")\n"
   ]
  },
  {
   "cell_type": "markdown",
   "id": "5fd29a19",
   "metadata": {},
   "source": [
    "REVIEW EXERCISE 2"
   ]
  },
  {
   "cell_type": "code",
   "execution_count": 12,
   "id": "20d0ca9a",
   "metadata": {},
   "outputs": [
    {
     "name": "stdout",
     "output_type": "stream",
     "text": [
      "Buddy is 3 years old\n",
      "Buddy says Bark\n",
      "Buddy says Woof\n"
     ]
    }
   ],
   "source": [
    "class Dog:\n",
    "    def __init__(self, name, age): self.name, self.age = name, age\n",
    "    def speak(self, sound=\"Bark\"): return f\"{self.name} says {sound}\"\n",
    "    def __str__(self): return f\"{self.name} is {self.age} years old\"\n",
    "\n",
    "class GoldenRetriever(Dog): pass\n",
    "\n",
    "dog = GoldenRetriever(\"Buddy\", 3)\n",
    "print(dog)\n",
    "print(dog.speak())\n",
    "print(dog.speak(\"Woof\"))\n"
   ]
  },
  {
   "cell_type": "code",
   "execution_count": 13,
   "id": "f9e6d7a1",
   "metadata": {},
   "outputs": [
    {
     "name": "stdout",
     "output_type": "stream",
     "text": [
      "16\n"
     ]
    }
   ],
   "source": [
    "class Rectangle:\n",
    "    def __init__(self, length, width):\n",
    "        self.length, self.width = length, width\n",
    "    def area(self): return self.length * self.width\n",
    "\n",
    "class Square(Rectangle):\n",
    "    def __init__(self, side): super().__init__(side, side)\n",
    "\n",
    "print(Square(4).area())\n"
   ]
  },
  {
   "cell_type": "markdown",
   "id": "bc7733a4",
   "metadata": {},
   "source": [
    "CHALLENGE: MODEL A FARM"
   ]
  },
  {
   "cell_type": "code",
   "execution_count": 14,
   "id": "bba0ea4f",
   "metadata": {},
   "outputs": [
    {
     "name": "stdout",
     "output_type": "stream",
     "text": [
      "\n",
      "--- Bessie the Cow ---\n",
      "Bessie says Moo!\n",
      "Bessie the Cow is eating.\n",
      "Bessie the Cow is sleeping.\n",
      "\n",
      "--- Chirpy the Chicken ---\n",
      "Chirpy says Cluck!\n",
      "Chirpy the Chicken is eating.\n",
      "Chirpy the Chicken is sleeping.\n",
      "\n",
      "--- Dolly the Sheep ---\n",
      "Dolly says Baa!\n",
      "Dolly the Sheep is eating.\n",
      "Dolly the Sheep is sleeping.\n",
      "\n",
      "Special Activities:\n",
      "Bessie is producing milk.\n",
      "Chirpy laid an egg.\n",
      "Dolly is growing wool.\n"
     ]
    }
   ],
   "source": [
    "class Animal:\n",
    "    def __init__(self, name, species, sound):\n",
    "        self.name = name\n",
    "        self.species = species\n",
    "        self.sound = sound\n",
    "\n",
    "    def eat(self):\n",
    "        print(f\"{self.name} the {self.species} is eating.\")\n",
    "\n",
    "    def sleep(self):\n",
    "        print(f\"{self.name} the {self.species} is sleeping.\")\n",
    "\n",
    "    def speak(self):\n",
    "        print(f\"{self.name} says {self.sound}!\")\n",
    "\n",
    "\n",
    "class Cow(Animal):\n",
    "    def __init__(self, name):\n",
    "        super().__init__(name, \"Cow\", \"Moo\")\n",
    "\n",
    "    def produce_milk(self):\n",
    "        print(f\"{self.name} is producing milk.\")\n",
    "\n",
    "\n",
    "class Chicken(Animal):\n",
    "    def __init__(self, name):\n",
    "        super().__init__(name, \"Chicken\", \"Cluck\")\n",
    "\n",
    "    def lay_egg(self):\n",
    "        print(f\"{self.name} laid an egg.\")\n",
    "\n",
    "\n",
    "class Sheep(Animal):\n",
    "    def __init__(self, name):\n",
    "        super().__init__(name, \"Sheep\", \"Baa\")\n",
    "\n",
    "    def produce_wool(self):\n",
    "        print(f\"{self.name} is growing wool.\")\n",
    "\n",
    "\n",
    "# Create farm animals\n",
    "cow = Cow(\"Bessie\")\n",
    "chicken = Chicken(\"Chirpy\")\n",
    "sheep = Sheep(\"Dolly\")\n",
    "\n",
    "# Show their behaviors\n",
    "for animal in [cow, chicken, sheep]:\n",
    "    print(f\"\\n--- {animal.name} the {animal.species} ---\")\n",
    "    animal.speak()\n",
    "    animal.eat()\n",
    "    animal.sleep()\n",
    "\n",
    "# Unique actions for each\n",
    "print(\"\\nSpecial Activities:\")\n",
    "cow.produce_milk()\n",
    "chicken.lay_egg()\n",
    "sheep.produce_wool()\n"
   ]
  }
 ],
 "metadata": {
  "kernelspec": {
   "display_name": "base",
   "language": "python",
   "name": "python3"
  },
  "language_info": {
   "codemirror_mode": {
    "name": "ipython",
    "version": 3
   },
   "file_extension": ".py",
   "mimetype": "text/x-python",
   "name": "python",
   "nbconvert_exporter": "python",
   "pygments_lexer": "ipython3",
   "version": "3.13.5"
  }
 },
 "nbformat": 4,
 "nbformat_minor": 5
}
