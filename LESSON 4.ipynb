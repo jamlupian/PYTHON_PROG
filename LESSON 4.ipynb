{
 "cells": [
  {
   "cell_type": "markdown",
   "id": "019e3953",
   "metadata": {},
   "source": [
    "\n",
    "REVIEW EXERCISES #1"
   ]
  },
  {
   "cell_type": "code",
   "execution_count": 12,
   "id": "5ef48713",
   "metadata": {},
   "outputs": [
    {
     "name": "stdout",
     "output_type": "stream",
     "text": [
      "True\n",
      "False\n",
      "True\n",
      "True\n",
      "True\n",
      "False\n"
     ]
    }
   ],
   "source": [
    "\n",
    "print(1 <= 1)\n",
    "print(1 != 1)\n",
    "print(1 != 2)\n",
    "print(\"good\" != \"bad\")\n",
    "print(\"good\" != \"Good\")\n",
    "print(123 == \"123\")"
   ]
  },
  {
   "cell_type": "code",
   "execution_count": 13,
   "id": "18e6e602",
   "metadata": {},
   "outputs": [
    {
     "name": "stdout",
     "output_type": "stream",
     "text": [
      "True\n",
      "True\n",
      "True\n",
      "True\n"
     ]
    }
   ],
   "source": [
    "print(3 < 4)\n",
    "print(10 > 5)\n",
    "print(\"jack\" != \"jill\")\n",
    "print(42 != \"42\")"
   ]
  },
  {
   "cell_type": "markdown",
   "id": "03616aba",
   "metadata": {},
   "source": [
    "REVIEW EXERCISES #2"
   ]
  },
  {
   "cell_type": "code",
   "execution_count": 14,
   "id": "7801e498",
   "metadata": {},
   "outputs": [
    {
     "name": "stdout",
     "output_type": "stream",
     "text": [
      "False\n",
      "False\n",
      "True\n",
      "False\n"
     ]
    }
   ],
   "source": [
    "print((1 <= 1) and (1 != 1))\n",
    "print(not (1 != 2))\n",
    "print((\"good\" != \"bad\") or False)\n",
    "print((\"good\" != \"Good\") and not (1 == 1))"
   ]
  },
  {
   "cell_type": "code",
   "execution_count": 15,
   "id": "8ccae291",
   "metadata": {},
   "outputs": [
    {
     "name": "stdout",
     "output_type": "stream",
     "text": [
      "True\n",
      "False\n",
      "False\n"
     ]
    }
   ],
   "source": [
    "print(False == (not True))\n",
    "print(True and False == True and False)\n",
    "print(not True and \"A\" == \"B\")"
   ]
  },
  {
   "cell_type": "markdown",
   "id": "a75e5359",
   "metadata": {},
   "source": [
    "\n",
    "REVIEW EXERCISES #3"
   ]
  },
  {
   "cell_type": "code",
   "execution_count": 16,
   "id": "e71ad0b9",
   "metadata": {},
   "outputs": [
    {
     "name": "stdout",
     "output_type": "stream",
     "text": [
      "Your words \"\" is less than 5 characters.\n"
     ]
    }
   ],
   "source": [
    "userInput = input(\"Enter a word:\")\n",
    "wordLength = len(userInput)\n",
    "\n",
    "if wordLength <  5:\n",
    "    print(f'Your words \"{userInput}\" is less than 5 characters.')\n",
    "elif wordLength > 5:\n",
    "    print(f'Your words \"{userInput}\" is greater than 5 characters.')\n",
    "else:\n",
    "    print(f'Your words \"{userInput}\" is equal to 5 characters.')"
   ]
  },
  {
   "cell_type": "markdown",
   "id": "ea458973",
   "metadata": {},
   "source": [
    "REVIEW EXCERCISES #4"
   ]
  },
  {
   "cell_type": "code",
   "execution_count": 24,
   "id": "e566d773",
   "metadata": {},
   "outputs": [
    {
     "name": "stdout",
     "output_type": "stream",
     "text": [
      "You inputted \"qwe\".\n",
      "You inputted \"try\".\n",
      "You inputted \"fbjs\".\n",
      "Exiting...\n"
     ]
    }
   ],
   "source": [
    "while True:\n",
    "    userInput = input(\"Input any words(q to exit): \")\n",
    "    if userInput.lower() == \"q\":\n",
    "        print(\"Exiting...\")\n",
    "        break\n",
    "    else:\n",
    "        print(f'You inputted \"{userInput}\".')"
   ]
  },
  {
   "cell_type": "code",
   "execution_count": 18,
   "id": "ff06659a",
   "metadata": {},
   "outputs": [
    {
     "name": "stdout",
     "output_type": "stream",
     "text": [
      "1\n",
      "2\n",
      "4\n",
      "5\n",
      "7\n",
      "8\n",
      "10\n",
      "11\n",
      "13\n",
      "14\n",
      "16\n",
      "17\n",
      "19\n",
      "20\n",
      "22\n",
      "23\n",
      "25\n",
      "26\n",
      "28\n",
      "29\n",
      "31\n",
      "32\n",
      "34\n",
      "35\n",
      "37\n",
      "38\n",
      "40\n",
      "41\n",
      "43\n",
      "44\n",
      "46\n",
      "47\n",
      "49\n"
     ]
    }
   ],
   "source": [
    "for i in range(1, 50):\n",
    "    if i % 3 == 0:\n",
    "        continue\n",
    "    print(i)"
   ]
  },
  {
   "cell_type": "markdown",
   "id": "9a6f43e1",
   "metadata": {},
   "source": [
    "\n",
    "REVIEW EXERCISES #5"
   ]
  },
  {
   "cell_type": "code",
   "execution_count": 19,
   "id": "1b4246fc",
   "metadata": {},
   "outputs": [
    {
     "name": "stdout",
     "output_type": "stream",
     "text": [
      "You entered: 5\n"
     ]
    }
   ],
   "source": [
    "while True:\n",
    "    try:\n",
    "        number = int(input(\"Enter an integer: \"))\n",
    "        print(\"You entered:\", number)\n",
    "        break\n",
    "    except ValueError:\n",
    "        print(\"Try again. That was not an integer.\")"
   ]
  },
  {
   "cell_type": "code",
   "execution_count": 20,
   "id": "f4552947",
   "metadata": {},
   "outputs": [
    {
     "name": "stdout",
     "output_type": "stream",
     "text": [
      "Invalid index. String length is 4\n"
     ]
    }
   ],
   "source": [
    "text = input(\"Enter a string: \")\n",
    "n = int(input(\"Enter an index: \"))\n",
    "\n",
    "if 0 <= n < len(text):\n",
    "    print(\"Character at index\", n, \"is:\", text[n])\n",
    "else:\n",
    "    print(\"Invalid index. String length is\", len(text))"
   ]
  },
  {
   "cell_type": "markdown",
   "id": "770e0f3f",
   "metadata": {},
   "source": [
    "REVIEW EXERCISES #6"
   ]
  },
  {
   "cell_type": "code",
   "execution_count": 21,
   "id": "8cc03d16",
   "metadata": {},
   "outputs": [],
   "source": [
    "import random\n",
    "def roll():\n",
    "    return random.randint(1, 6)"
   ]
  },
  {
   "cell_type": "code",
   "execution_count": 22,
   "id": "93ce2ecc",
   "metadata": {},
   "outputs": [
    {
     "name": "stdout",
     "output_type": "stream",
     "text": [
      "Average number rolled after 10000 rolls is: 3.4935\n"
     ]
    }
   ],
   "source": [
    "total = 0\n",
    "rolls = 10000\n",
    "\n",
    "for _ in range(rolls):\n",
    "    total += roll()\n",
    "\n",
    "average = total / rolls\n",
    "print(\"Average number rolled after\", rolls, \"rolls is:\", average)"
   ]
  },
  {
   "cell_type": "markdown",
   "id": "1f4375fb",
   "metadata": {},
   "source": [
    "CHALLENGE: SIMULATE AN ELECTION"
   ]
  },
  {
   "cell_type": "code",
   "execution_count": 23,
   "id": "ee46cff9",
   "metadata": {},
   "outputs": [
    {
     "name": "stdout",
     "output_type": "stream",
     "text": [
      "Election Results by Region:\n",
      "Region 1: Candidate A\n",
      "Region 2: Candidate B\n",
      "Region 3: Candidate B\n",
      "\n",
      "Overall Winner: Candidate B\n"
     ]
    }
   ],
   "source": [
    "import random\n",
    "\n",
    "def simulate_election():\n",
    "    chances = {\n",
    "        \"Region 1\": 0.87,\n",
    "        \"Region 2\": 0.65,\n",
    "        \"Region 3\": 0.17\n",
    "    }\n",
    "    \n",
    "    results = {}\n",
    "    a_wins = 0\n",
    "    b_wins = 0\n",
    "    \n",
    "    # Simulate each region\n",
    "    for region, chance in chances.items():\n",
    "        if random.random() < chance:\n",
    "            results[region] = \"Candidate A\"\n",
    "            a_wins += 1\n",
    "        else:\n",
    "            results[region] = \"Candidate B\"\n",
    "            b_wins += 1\n",
    "\n",
    "    if a_wins > b_wins:\n",
    "        winner = \"Candidate A\"\n",
    "    else:\n",
    "        winner = \"Candidate B\"\n",
    "    \n",
    "    return results, winner\n",
    "\n",
    "results, winner = simulate_election()\n",
    "\n",
    "print(\"Election Results by Region:\")\n",
    "for region, result in results.items():\n",
    "    print(f\"{region}: {result}\")\n",
    "\n",
    "print(f\"\\nOverall Winner: {winner}\")\n"
   ]
  }
 ],
 "metadata": {
  "kernelspec": {
   "display_name": "base",
   "language": "python",
   "name": "python3"
  },
  "language_info": {
   "codemirror_mode": {
    "name": "ipython",
    "version": 3
   },
   "file_extension": ".py",
   "mimetype": "text/x-python",
   "name": "python",
   "nbconvert_exporter": "python",
   "pygments_lexer": "ipython3",
   "version": "3.13.5"
  }
 },
 "nbformat": 4,
 "nbformat_minor": 5
}
