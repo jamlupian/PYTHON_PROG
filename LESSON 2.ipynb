{
 "cells": [
  {
   "cell_type": "code",
   "execution_count": 7,
   "id": "71d8e4dd",
   "metadata": {},
   "outputs": [
    {
     "name": "stdout",
     "output_type": "stream",
     "text": [
      "25000000\n",
      "25000000\n"
     ]
    }
   ],
   "source": [
    "num1 = 25_000_000\n",
    "num2 = 25000000\n",
    "print(num1)\n",
    "print(num1)"
   ]
  },
  {
   "cell_type": "code",
   "execution_count": 8,
   "id": "33c613b7",
   "metadata": {},
   "outputs": [
    {
     "name": "stdout",
     "output_type": "stream",
     "text": [
      "175000.0\n"
     ]
    }
   ],
   "source": [
    "num = 1.75e5\n",
    "print(num)"
   ]
  },
  {
   "cell_type": "code",
   "execution_count": 9,
   "id": "1a7959d8",
   "metadata": {},
   "outputs": [
    {
     "name": "stdout",
     "output_type": "stream",
     "text": [
      "2e+307\n",
      "inf\n"
     ]
    }
   ],
   "source": [
    "print(2e307)\n",
    "print(2e308)"
   ]
  },
  {
   "cell_type": "code",
   "execution_count": 10,
   "id": "fc69640e",
   "metadata": {},
   "outputs": [
    {
     "name": "stdout",
     "output_type": "stream",
     "text": [
      "2.0 to the power of 1.0 = 2.0\n"
     ]
    }
   ],
   "source": [
    "userInput1 = float(input(\"Enter a base:\"))\n",
    "userInput2 = float(input(\"Enter an exponent:\"))\n",
    "result = userInput1 * userInput2\n",
    "print(f\"{userInput1} to the power of {userInput2} = {result}\" )"
   ]
  },
  {
   "cell_type": "code",
   "execution_count": 11,
   "id": "2d5e5757",
   "metadata": {},
   "outputs": [
    {
     "name": "stdout",
     "output_type": "stream",
     "text": [
      "10.0 rounded to 2 decimal places is 10.0\n"
     ]
    }
   ],
   "source": [
    "userInput = float(input(\"Enter a number:\"))\n",
    "print(f\"{userInput} rounded to 2 decimal places is {round(userInput, 2)}\")"
   ]
  },
  {
   "cell_type": "code",
   "execution_count": 12,
   "id": "81c5f1ea",
   "metadata": {},
   "outputs": [
    {
     "name": "stdout",
     "output_type": "stream",
     "text": [
      "The absolute value of -10 is 10.0\n"
     ]
    }
   ],
   "source": [
    "userInput = float(input(\"Enter a number:\"))\n",
    "print(f\"The absolute value of -10 is {abs(userInput)}\")"
   ]
  },
  {
   "cell_type": "code",
   "execution_count": 13,
   "id": "21462fee",
   "metadata": {},
   "outputs": [
    {
     "name": "stdout",
     "output_type": "stream",
     "text": [
      "The difference between 10.0 and 10.0 is an integer? True!\n"
     ]
    }
   ],
   "source": [
    "userInput1 = float(input(\"Enter a number:\"))\n",
    "userInput2 = float(input(\"Enter another number:\"))\n",
    "difference = userInput1 - userInput2 # if ganahan always positive ang ereturn kay pwede butngan abs()\n",
    "print(f\"The difference between {userInput1} and {userInput2} is an integer? {difference.is_integer()}!\")"
   ]
  },
  {
   "cell_type": "markdown",
   "id": "a2fe23c7",
   "metadata": {},
   "source": [
    "REVIEW QUESTION #5"
   ]
  },
  {
   "cell_type": "code",
   "execution_count": 14,
   "id": "aa5338a6",
   "metadata": {},
   "outputs": [
    {
     "name": "stdout",
     "output_type": "stream",
     "text": [
      "1.147\n"
     ]
    }
   ],
   "source": [
    "result = 3 ** .125\n",
    "print(f\"{result:.3f}\")"
   ]
  },
  {
   "cell_type": "code",
   "execution_count": 15,
   "id": "39b5f338",
   "metadata": {},
   "outputs": [
    {
     "name": "stdout",
     "output_type": "stream",
     "text": [
      "150,000.00\n"
     ]
    }
   ],
   "source": [
    "print(f\"{150000:,.2f}\")"
   ]
  },
  {
   "cell_type": "code",
   "execution_count": 16,
   "id": "8ab0c8c9",
   "metadata": {},
   "outputs": [
    {
     "name": "stdout",
     "output_type": "stream",
     "text": [
      "20%\n"
     ]
    }
   ],
   "source": [
    "print(f\"{2/10:.0%}\")"
   ]
  }
 ],
 "metadata": {
  "kernelspec": {
   "display_name": "base",
   "language": "python",
   "name": "python3"
  },
  "language_info": {
   "codemirror_mode": {
    "name": "ipython",
    "version": 3
   },
   "file_extension": ".py",
   "mimetype": "text/x-python",
   "name": "python",
   "nbconvert_exporter": "python",
   "pygments_lexer": "ipython3",
   "version": "3.13.5"
  }
 },
 "nbformat": 4,
 "nbformat_minor": 5
}
