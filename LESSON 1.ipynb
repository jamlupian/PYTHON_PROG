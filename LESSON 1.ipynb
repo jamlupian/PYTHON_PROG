{
 "cells": [
  {
   "cell_type": "code",
   "execution_count": 2,
   "id": "55d5b9a4",
   "metadata": {},
   "outputs": [
    {
     "name": "stdout",
     "output_type": "stream",
     "text": [
      "4\n"
     ]
    }
   ],
   "source": [
    "word = \"TEST\"\n",
    "print(len(word))"
   ]
  },
  {
   "cell_type": "code",
   "execution_count": 3,
   "id": "e94202a0",
   "metadata": {},
   "outputs": [
    {
     "name": "stdout",
     "output_type": "stream",
     "text": [
      "TESTTWO\n"
     ]
    }
   ],
   "source": [
    "word = \"TEST\"\n",
    "word1 = \"TWO\"\n",
    "finalword = word + word1\n",
    "print(finalword)"
   ]
  },
  {
   "cell_type": "code",
   "execution_count": 4,
   "id": "d4c02f1d",
   "metadata": {},
   "outputs": [
    {
     "name": "stdout",
     "output_type": "stream",
     "text": [
      "TEST TWO\n"
     ]
    }
   ],
   "source": [
    "word = \"TEST\"\n",
    "word1 = \"TWO\"\n",
    "finalword = word+\" \"+ word1\n",
    "print(finalword)"
   ]
  },
  {
   "cell_type": "code",
   "execution_count": 5,
   "metadata": {},
   "outputs": [
    {
     "name": "stdout",
     "output_type": "stream",
     "text": [
      "fox\n"
     ]
    }
   ],
   "source": [
    "sentence = \"The quick brown fox jumped over the lazy dog.#1234567890!\"\n",
    "print(sentence[16:19])"
   ]
  },
  {
   "cell_type": "markdown",
   "id": "af513120",
   "metadata": {},
   "source": [
    "REVIEW QUESTIONS 2"
   ]
  },
  {
   "cell_type": "code",
   "execution_count": 6,
   "metadata": {},
   "outputs": [
    {
     "name": "stdout",
     "output_type": "stream",
     "text": [
      "animals\n",
      "badger\n",
      "honey bee\n"
     ]
    }
   ],
   "source": [
    "word = \"Animals\"\n",
    "word1 = \"Badger\"\n",
    "word2 = \"Honey Bee\"\n",
    "word3 = \"Honeybadger\"\n",
    "print(word.lower())\n",
    "print(word1.lower())\n",
    "print(word2.lower())"
   ]
  },
  {
   "cell_type": "code",
   "execution_count": 7,
   "metadata": {},
   "outputs": [
    {
     "name": "stdout",
     "output_type": "stream",
     "text": [
      "ANIMALS\n",
      "BADGER\n",
      "HONEY BEE\n",
      "HONEYBADGER\n"
     ]
    }
   ],
   "source": [
    "word = \"Animals\"\n",
    "word1 = \"Badger\"\n",
    "word2 = \"Honey Bee\"\n",
    "word3 = \"Honeybadger\"\n",
    "print(word.upper())\n",
    "print(word1.upper())\n",
    "print(word2.upper())\n",
    "print(word3.upper())"
   ]
  },
  {
   "cell_type": "code",
   "execution_count": 8,
   "id": "526bfdef",
   "metadata": {},
   "outputs": [
    {
     "name": "stdout",
     "output_type": "stream",
     "text": [
      "Filet Mignon\n",
      "Brisket\n"
     ]
    }
   ],
   "source": [
    "string1= \"  Filet Mignon\"\n",
    "string2 = \"Brisket  \"\n",
    "print(string1.lstrip())\n",
    "print(string2.rstrip())"
   ]
  },
  {
   "cell_type": "code",
   "execution_count": 9,
   "id": "96d81c33",
   "metadata": {},
   "outputs": [
    {
     "name": "stdout",
     "output_type": "stream",
     "text": [
      "False\n",
      "True\n"
     ]
    }
   ],
   "source": [
    "string1=\"Becomes\"\n",
    "print(string1.startswith('be'))\n",
    "string2=\"becomes\"\n",
    "print(string2.startswith('be'))"
   ]
  },
  {
   "cell_type": "code",
   "execution_count": 10,
   "id": "d1900385",
   "metadata": {},
   "outputs": [
    {
     "name": "stdout",
     "output_type": "stream",
     "text": [
      "True\n",
      "True\n"
     ]
    }
   ],
   "source": [
    "string1=\"Becomes\"\n",
    "string1=\"be\"+string1[2:]\n",
    "print(string1.startswith('be'))\n",
    "string2=\"becomes\"\n",
    "print(string2.startswith('be'))"
   ]
  },
  {
   "cell_type": "markdown",
   "id": "9b204b8a",
   "metadata": {},
   "source": [
    "REVIEW QUESTIONS 3"
   ]
  },
  {
   "cell_type": "code",
   "execution_count": 11,
   "id": "f1703995",
   "metadata": {},
   "outputs": [
    {
     "name": "stdout",
     "output_type": "stream",
     "text": [
      "HI Lupian\n"
     ]
    }
   ],
   "source": [
    "prompt=\"Hi, What is your name?\"\n",
    "answer = input(prompt)\n",
    "print(\"HI\",answer)"
   ]
  },
  {
   "cell_type": "code",
   "execution_count": 12,
   "id": "e4c2838e",
   "metadata": {},
   "outputs": [
    {
     "name": "stdout",
     "output_type": "stream",
     "text": [
      "HI lupian\n"
     ]
    }
   ],
   "source": [
    "prompt=\"Hi, What is your name?\"\n",
    "answer = input(prompt)\n",
    "print(\"HI\",answer.lower())"
   ]
  },
  {
   "cell_type": "code",
   "execution_count": 13,
   "id": "12ba64bf",
   "metadata": {},
   "outputs": [
    {
     "name": "stdout",
     "output_type": "stream",
     "text": [
      "Your name has 6 letters\n"
     ]
    }
   ],
   "source": [
    "prompt=\"Hi, What is your name?\"\n",
    "answer = input(prompt)\n",
    "print(\"Your name has\",len(answer),\"letters\")"
   ]
  },
  {
   "cell_type": "markdown",
   "id": "7a9da243",
   "metadata": {},
   "source": [
    "REVIEW QUESTIONS 4"
   ]
  },
  {
   "cell_type": "code",
   "execution_count": 14,
   "id": "8eabee44",
   "metadata": {},
   "outputs": [
    {
     "name": "stdout",
     "output_type": "stream",
     "text": [
      "L\n"
     ]
    }
   ],
   "source": [
    "prompt = \"Tell me your name:\"\n",
    "answer =input(prompt)\n",
    "firstletter=answer[0]\n",
    "print(firstletter.upper())"
   ]
  },
  {
   "cell_type": "markdown",
   "id": "3a157c62",
   "metadata": {},
   "source": [
    "REVIEW QUESTIONS 5"
   ]
  },
  {
   "cell_type": "code",
   "execution_count": 15,
   "id": "821b0156",
   "metadata": {},
   "outputs": [
    {
     "name": "stdout",
     "output_type": "stream",
     "text": [
      "30\n"
     ]
    }
   ],
   "source": [
    "string1 = \"15\"\n",
    "num = int(string1)\n",
    "sum = num * 2\n",
    "print (sum)\n"
   ]
  },
  {
   "cell_type": "code",
   "execution_count": 16,
   "id": "8a26bd86",
   "metadata": {},
   "outputs": [
    {
     "name": "stdout",
     "output_type": "stream",
     "text": [
      "30.0\n"
     ]
    }
   ],
   "source": [
    "string1 = \"15\"\n",
    "num = float(string1)\n",
    "sum = num * 2\n",
    "print (sum)"
   ]
  },
  {
   "cell_type": "code",
   "execution_count": 17,
   "id": "fe10aba7",
   "metadata": {},
   "outputs": [
    {
     "name": "stdout",
     "output_type": "stream",
     "text": [
      "15 20\n"
     ]
    }
   ],
   "source": [
    "string1 = \"15\"\n",
    "num = 20\n",
    "print (string1+\" \"+str(num))"
   ]
  },
  {
   "cell_type": "code",
   "execution_count": 18,
   "id": "ff899e58",
   "metadata": {},
   "outputs": [
    {
     "name": "stdout",
     "output_type": "stream",
     "text": [
      "10000\n"
     ]
    }
   ],
   "source": [
    "prompt =\"Give me a Number\"\n",
    "number1 = input(prompt)\n",
    "prompt2 = \"Give me Another Number\"\n",
    "number2 = input(prompt2)\n",
    "fnum1 = int(number1)\n",
    "fnum2 = int(number2)\n",
    "print(fnum1*fnum2)"
   ]
  },
  {
   "cell_type": "markdown",
   "id": "cea8621b",
   "metadata": {},
   "source": [
    "REVIEW QUESTIONS 6"
   ]
  },
  {
   "cell_type": "code",
   "execution_count": 19,
   "id": "7a33972a",
   "metadata": {},
   "outputs": [
    {
     "data": {
      "text/plain": [
       "-1"
      ]
     },
     "execution_count": 19,
     "metadata": {},
     "output_type": "execute_result"
    }
   ],
   "source": [
    "\"AAA\".find(\"a\")"
   ]
  },
  {
   "cell_type": "code",
   "execution_count": 20,
   "id": "b1b08ffd",
   "metadata": {},
   "outputs": [
    {
     "data": {
      "text/plain": [
       "'Somebody yaid yomething to Samantha'"
      ]
     },
     "execution_count": 20,
     "metadata": {},
     "output_type": "execute_result"
    }
   ],
   "source": [
    "\"Somebody said something to Samantha\".replace(\"s\",\"y\")"
   ]
  },
  {
   "cell_type": "code",
   "execution_count": 21,
   "id": "b3fcf509",
   "metadata": {},
   "outputs": [
    {
     "data": {
      "text/plain": [
       "0"
      ]
     },
     "execution_count": 21,
     "metadata": {},
     "output_type": "execute_result"
    }
   ],
   "source": [
    "prompt = \"Give me a sentence/word\"\n",
    "answer = input(prompt)\n",
    "prompt1 = \"What letter would you want to find?\"\n",
    "answer1 = input(prompt1)\n",
    "answer.find(answer1)"
   ]
  },
  {
   "cell_type": "markdown",
   "id": "3ea21b27",
   "metadata": {},
   "source": [
    "REVIEW QUESTIONS 7"
   ]
  },
  {
   "cell_type": "code",
   "execution_count": 22,
   "id": "039c55cd",
   "metadata": {},
   "outputs": [
    {
     "name": "stdout",
     "output_type": "stream",
     "text": [
      "H3110\n"
     ]
    }
   ],
   "source": [
    "prompt = \"Enter some text:\"\n",
    "answer1 = input(prompt)\n",
    "answer2 =answer1.replace(\"a\",\"4\")\n",
    "answer3 =answer2.replace(\"b\",\"8\")\n",
    "answer4 =answer3.replace(\"e\",\"3\")\n",
    "answer5 =answer4.replace(\"l\",\"1\")\n",
    "answer6 =answer5.replace(\"o\",\"0\")\n",
    "answer7 =answer6.replace(\"s\",\"5\")\n",
    "answer8 =answer7.replace(\"t\",\"7\")\n",
    "print(answer8)"
   ]
  }
 ],
 "metadata": {
  "kernelspec": {
   "display_name": "base",
   "language": "python",
   "name": "python3"
  },
  "language_info": {
   "codemirror_mode": {
    "name": "ipython",
    "version": 3
   },
   "file_extension": ".py",
   "mimetype": "text/x-python",
   "name": "python",
   "nbconvert_exporter": "python",
   "pygments_lexer": "ipython3",
   "version": "3.13.5"
  }
 },
 "nbformat": 4,
 "nbformat_minor": 5
}
