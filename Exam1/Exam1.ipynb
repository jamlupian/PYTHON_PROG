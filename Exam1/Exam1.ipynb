{
 "cells": [
  {
   "cell_type": "markdown",
   "id": "a1a1e5c9-1d60-4bda-9f5c-65e8b751e3a5",
   "metadata": {},
   "source": [
    "# 1st Long Exam 10/09/25"
   ]
  },
  {
   "cell_type": "markdown",
   "id": "140d21cc-500f-4b8f-acfe-8f96833e6fcd",
   "metadata": {},
   "source": [
    "# Name: John Alfred Lupian ID:23743560"
   ]
  },
  {
   "cell_type": "code",
   "execution_count": 2,
   "id": "a82c6f4c-b412-4801-bf6b-f360fb80271e",
   "metadata": {},
   "outputs": [
    {
     "name": "stdin",
     "output_type": "stream",
     "text": [
      "Enter your name:  hi\n"
     ]
    },
    {
     "name": "stdout",
     "output_type": "stream",
     "text": [
      "Hello hi\n"
     ]
    }
   ],
   "source": [
    "name = input (\"Enter your name: \")\n",
    "print (f\"Hello {name}\")"
   ]
  },
  {
   "cell_type": "code",
   "execution_count": 11,
   "id": "01628465-0c45-4e02-b3bb-75f3d7cfb51c",
   "metadata": {},
   "outputs": [
    {
     "name": "stdin",
     "output_type": "stream",
     "text": [
      "Enter a positive number:  4\n"
     ]
    },
    {
     "ename": "TypeError",
     "evalue": "'int' object is not callable",
     "output_type": "error",
     "traceback": [
      "\u001b[1;31m---------------------------------------------------------------------------\u001b[0m",
      "\u001b[1;31mTypeError\u001b[0m                                 Traceback (most recent call last)",
      "Cell \u001b[1;32mIn[11], line 2\u001b[0m\n\u001b[0;32m      1\u001b[0m num \u001b[38;5;241m=\u001b[39m \u001b[38;5;28mint\u001b[39m (\u001b[38;5;28minput\u001b[39m (\u001b[38;5;124m\"\u001b[39m\u001b[38;5;124mEnter a positive number: \u001b[39m\u001b[38;5;124m\"\u001b[39m))\n\u001b[1;32m----> 2\u001b[0m \u001b[38;5;28msum\u001b[39m \u001b[38;5;241m=\u001b[39m num (num \u001b[38;5;241m+\u001b[39m \u001b[38;5;241m1\u001b[39m) \u001b[38;5;241m/\u001b[39m \u001b[38;5;241m2\u001b[39m\n\u001b[0;32m      3\u001b[0m \u001b[38;5;28mprint\u001b[39m (\u001b[38;5;28msum\u001b[39m)\n",
      "\u001b[1;31mTypeError\u001b[0m: 'int' object is not callable"
     ]
    }
   ],
   "source": [
    "num = int (input (\"Enter a positive number: \"))\n",
    "sum = (num (num + 1) / 2)\n",
    "print (sum)"
   ]
  },
  {
   "cell_type": "code",
   "execution_count": 10,
   "id": "13951d0f-2055-401e-9161-2bb1456f83d6",
   "metadata": {},
   "outputs": [
    {
     "ename": "SyntaxError",
     "evalue": "expected ':' (2791697463.py, line 4)",
     "output_type": "error",
     "traceback": [
      "\u001b[1;36m  Cell \u001b[1;32mIn[10], line 4\u001b[1;36m\u001b[0m\n\u001b[1;33m    else if letter == \"y\":\u001b[0m\n\u001b[1;37m         ^\u001b[0m\n\u001b[1;31mSyntaxError\u001b[0m\u001b[1;31m:\u001b[0m expected ':'\n"
     ]
    }
   ],
   "source": [
    "letter = input (\"Enter a letter: \")\n",
    "if letter in ['a', 'e', 'i', 'o', 'u']:\n",
    "    print (f\"{letter} is a vowel\")\n",
    "else if letter == \"y\":\n",
    "    print (f\"{letter} is sometimes a vowel sometimes a consonant \")\n",
    "else:\n",
    "    print(f\"{letter} is a consonant\")"
   ]
  },
  {
   "cell_type": "code",
   "execution_count": 12,
   "id": "13115905-af60-4e88-a7a0-2cac079a8e70",
   "metadata": {},
   "outputs": [
    {
     "name": "stdin",
     "output_type": "stream",
     "text": [
      "Enter a word:  a\n"
     ]
    },
    {
     "name": "stdout",
     "output_type": "stream",
     "text": [
      "a is not a palindrome\n"
     ]
    }
   ],
   "source": [
    "word = input (\"Enter a word: \")\n",
    "if word == word [::-1]:\n",
    "    print(f\"{word} is not a palindrome\")\n",
    "else:\n",
    "    print(f\"{word} is NOT a palindrome\")"
   ]
  },
  {
   "cell_type": "code",
   "execution_count": null,
   "id": "da15c08c-6d9a-43e3-8ef0-ff83a50f387d",
   "metadata": {},
   "outputs": [],
   "source": []
  }
 ],
 "metadata": {
  "kernelspec": {
   "display_name": "Python 3 (ipykernel)",
   "language": "python",
   "name": "python3"
  },
  "language_info": {
   "codemirror_mode": {
    "name": "ipython",
    "version": 3
   },
   "file_extension": ".py",
   "mimetype": "text/x-python",
   "name": "python",
   "nbconvert_exporter": "python",
   "pygments_lexer": "ipython3",
   "version": "3.13.5"
  }
 },
 "nbformat": 4,
 "nbformat_minor": 5
}
